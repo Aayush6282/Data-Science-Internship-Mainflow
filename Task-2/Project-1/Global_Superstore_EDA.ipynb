{
 "cells": [
  {
   "cell_type": "markdown",
   "id": "aef82fe4",
   "metadata": {},
   "source": [
    "# 📊 Exploratory Data Analysis (EDA) on Global Superstore Dataset\n",
    "**Objective**: Perform EDA to identify trends, patterns, anomalies, and factors influencing performance."
   ]
  },
  {
   "cell_type": "code",
   "execution_count": null,
   "id": "d7c1fbee",
   "metadata": {},
   "outputs": [],
   "source": [
    "import pandas as pd\n",
    "import numpy as np\n",
    "import seaborn as sns\n",
    "import matplotlib.pyplot as plt\n",
    "\n",
    "pd.set_option('display.max_columns', None)\n",
    "sns.set(style='whitegrid')"
   ]
  },
  {
   "cell_type": "markdown",
   "id": "720be555",
   "metadata": {},
   "source": [
    "## Step 1: Load Dataset"
   ]
  },
  {
   "cell_type": "code",
   "execution_count": null,
   "id": "4351a524",
   "metadata": {},
   "outputs": [],
   "source": [
    "# Make sure Global_Superstore.xlsx is in the same folder\n",
    "file_path = 'Global_Superstore.xlsx'\n",
    "df = pd.read_excel(file_path)\n",
    "df.head()"
   ]
  },
  {
   "cell_type": "markdown",
   "id": "2f457cd7",
   "metadata": {},
   "source": [
    "## Step 2: Data Overview"
   ]
  },
  {
   "cell_type": "code",
   "execution_count": null,
   "id": "11fb9ef9",
   "metadata": {},
   "outputs": [],
   "source": [
    "print(\"Initial shape:\", df.shape)\n",
    "df.info()"
   ]
  },
  {
   "cell_type": "markdown",
   "id": "9f5698eb",
   "metadata": {},
   "source": [
    "## Step 3: Handle Missing Values"
   ]
  },
  {
   "cell_type": "code",
   "execution_count": null,
   "id": "b516a687",
   "metadata": {},
   "outputs": [],
   "source": [
    "df['Postal Code'].fillna(df['Postal Code'].median(), inplace=True)\n",
    "df.dropna(subset=['Sales', 'Profit'], inplace=True)"
   ]
  },
  {
   "cell_type": "markdown",
   "id": "9669baab",
   "metadata": {},
   "source": [
    "## Step 4: Remove Duplicates"
   ]
  },
  {
   "cell_type": "code",
   "execution_count": null,
   "id": "4637c79d",
   "metadata": {},
   "outputs": [],
   "source": [
    "df.drop_duplicates(inplace=True)\n",
    "print(\"Duplicates removed.\")"
   ]
  },
  {
   "cell_type": "markdown",
   "id": "334c8763",
   "metadata": {},
   "source": [
    "## Step 5: Handle Outliers using IQR"
   ]
  },
  {
   "cell_type": "code",
   "execution_count": null,
   "id": "164c646c",
   "metadata": {},
   "outputs": [],
   "source": [
    "def remove_outliers_iqr(data, column):\n",
    "    Q1 = data[column].quantile(0.25)\n",
    "    Q3 = data[column].quantile(0.75)\n",
    "    IQR = Q3 - Q1\n",
    "    lower = Q1 - 1.5 * IQR\n",
    "    upper = Q3 + 1.5 * IQR\n",
    "    return data[(data[column] >= lower) & (data[column] <= upper)]\n",
    "\n",
    "df = remove_outliers_iqr(df, 'Sales')\n",
    "df = remove_outliers_iqr(df, 'Profit')"
   ]
  },
  {
   "cell_type": "markdown",
   "id": "e4ec1ecf",
   "metadata": {},
   "source": [
    "## Step 6: Descriptive Statistics"
   ]
  },
  {
   "cell_type": "code",
   "execution_count": null,
   "id": "f757aaff",
   "metadata": {},
   "outputs": [],
   "source": [
    "df[['Sales', 'Profit', 'Discount', 'Quantity']].describe()"
   ]
  },
  {
   "cell_type": "markdown",
   "id": "8233e367",
   "metadata": {},
   "source": [
    "## Step 7: Correlation Matrix"
   ]
  },
  {
   "cell_type": "code",
   "execution_count": null,
   "id": "ce332f89",
   "metadata": {},
   "outputs": [],
   "source": [
    "correlation = df[['Sales', 'Profit', 'Discount', 'Quantity']].corr()\n",
    "correlation"
   ]
  },
  {
   "cell_type": "markdown",
   "id": "3e6fe069",
   "metadata": {},
   "source": [
    "## Step 8: Visualizations\n",
    "### Histogram - Sales"
   ]
  },
  {
   "cell_type": "code",
   "execution_count": null,
   "id": "4eb8337d",
   "metadata": {},
   "outputs": [],
   "source": [
    "plt.figure(figsize=(8,5))\n",
    "df['Sales'].hist(bins=50)\n",
    "plt.title(\"Sales Distribution\")\n",
    "plt.xlabel(\"Sales\")\n",
    "plt.ylabel(\"Frequency\")\n",
    "plt.show()"
   ]
  },
  {
   "cell_type": "markdown",
   "id": "5440f864",
   "metadata": {},
   "source": [
    "### Boxplot - Profit"
   ]
  },
  {
   "cell_type": "code",
   "execution_count": null,
   "id": "3879abae",
   "metadata": {},
   "outputs": [],
   "source": [
    "plt.figure(figsize=(6,4))\n",
    "sns.boxplot(y=df['Profit'])\n",
    "plt.title(\"Boxplot of Profit\")\n",
    "plt.show()"
   ]
  },
  {
   "cell_type": "markdown",
   "id": "60409b72",
   "metadata": {},
   "source": [
    "### Heatmap - Correlation Matrix"
   ]
  },
  {
   "cell_type": "code",
   "execution_count": null,
   "id": "21b1294a",
   "metadata": {},
   "outputs": [],
   "source": [
    "plt.figure(figsize=(6,5))\n",
    "sns.heatmap(correlation, annot=True, cmap='coolwarm')\n",
    "plt.title(\"Correlation Heatmap\")\n",
    "plt.show()"
   ]
  },
  {
   "cell_type": "markdown",
   "id": "4a065ced",
   "metadata": {},
   "source": [
    "### Sales by Region"
   ]
  },
  {
   "cell_type": "code",
   "execution_count": null,
   "id": "abb9d5ff",
   "metadata": {},
   "outputs": [],
   "source": [
    "plt.figure(figsize=(8,5))\n",
    "sns.barplot(data=df, x='Region', y='Sales', estimator=sum, ci=None)\n",
    "plt.title(\"Total Sales by Region\")\n",
    "plt.xticks(rotation=45)\n",
    "plt.ylabel(\"Total Sales\")\n",
    "plt.show()"
   ]
  },
  {
   "cell_type": "markdown",
   "id": "474d3cf9",
   "metadata": {},
   "source": [
    "### Sales by Category"
   ]
  },
  {
   "cell_type": "code",
   "execution_count": null,
   "id": "a35bfa7c",
   "metadata": {},
   "outputs": [],
   "source": [
    "plt.figure(figsize=(8,5))\n",
    "sns.barplot(data=df, x='Category', y='Sales', estimator=sum, ci=None)\n",
    "plt.title(\"Total Sales by Category\")\n",
    "plt.ylabel(\"Total Sales\")\n",
    "plt.show()"
   ]
  },
  {
   "cell_type": "markdown",
   "id": "5b6b6804",
   "metadata": {},
   "source": [
    "## Step 9: Save Cleaned Dataset"
   ]
  },
  {
   "cell_type": "code",
   "execution_count": null,
   "id": "5ad05a46",
   "metadata": {},
   "outputs": [],
   "source": [
    "df.to_csv('Cleaned_Global_Superstore.csv', index=False)\n",
    "print(\"Cleaned dataset saved as 'Cleaned_Global_Superstore.csv'\")"
   ]
  }
 ],
 "metadata": {},
 "nbformat": 4,
 "nbformat_minor": 5
}