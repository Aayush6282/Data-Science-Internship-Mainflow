{
 "cells": [
  {
   "cell_type": "markdown",
   "id": "58e128ce",
   "metadata": {},
   "source": [
    "# 📈 Project 2: Sales Performance Analysis\n",
    "**Objective**: Analyze sales data to identify trends, relationships, and factors affecting sales performance."
   ]
  },
  {
   "cell_type": "code",
   "execution_count": null,
   "id": "b29420f4",
   "metadata": {},
   "outputs": [],
   "source": [
    "import pandas as pd\n",
    "import numpy as np\n",
    "import seaborn as sns\n",
    "import matplotlib.pyplot as plt\n",
    "from sklearn.linear_model import LinearRegression\n",
    "from sklearn.model_selection import train_test_split\n",
    "from sklearn.metrics import r2_score, mean_squared_error\n",
    "\n",
    "sns.set(style='whitegrid')"
   ]
  },
  {
   "cell_type": "markdown",
   "id": "3e0aa248",
   "metadata": {},
   "source": [
    "## Step 1: Load and Explore the Dataset"
   ]
  },
  {
   "cell_type": "code",
   "execution_count": null,
   "id": "cdb0c7ed",
   "metadata": {},
   "outputs": [],
   "source": [
    "df = pd.read_csv('sales_data.csv')\n",
    "print(\"Shape:\", df.shape)\n",
    "df.info()\n",
    "df.head()"
   ]
  },
  {
   "cell_type": "markdown",
   "id": "ea6241c4",
   "metadata": {},
   "source": [
    "## Step 2: Data Cleaning"
   ]
  },
  {
   "cell_type": "code",
   "execution_count": null,
   "id": "0e881176",
   "metadata": {},
   "outputs": [],
   "source": [
    "# Remove duplicates\n",
    "df.drop_duplicates(inplace=True)\n",
    "\n",
    "# Fill missing values with mean or median\n",
    "df['Sales'].fillna(df['Sales'].mean(), inplace=True)\n",
    "df['Profit'].fillna(df['Profit'].median(), inplace=True)\n",
    "df['Discount'].fillna(df['Discount'].mean(), inplace=True)\n",
    "\n",
    "# Convert 'Date' column to datetime format\n",
    "df['Date'] = pd.to_datetime(df['Date'])"
   ]
  },
  {
   "cell_type": "markdown",
   "id": "5b9117b9",
   "metadata": {},
   "source": [
    "## Step 3: Exploratory Data Analysis"
   ]
  },
  {
   "cell_type": "markdown",
   "id": "0792c751",
   "metadata": {},
   "source": [
    "### Sales Trends Over Time"
   ]
  },
  {
   "cell_type": "code",
   "execution_count": null,
   "id": "f77121d0",
   "metadata": {},
   "outputs": [],
   "source": [
    "sales_trend = df.groupby('Date')['Sales'].sum().reset_index()\n",
    "plt.figure(figsize=(12,6))\n",
    "plt.plot(sales_trend['Date'], sales_trend['Sales'], marker='o')\n",
    "plt.title(\"Sales Trends Over Time\")\n",
    "plt.xlabel(\"Date\")\n",
    "plt.ylabel(\"Total Sales\")\n",
    "plt.xticks(rotation=45)\n",
    "plt.tight_layout()\n",
    "plt.show()"
   ]
  },
  {
   "cell_type": "markdown",
   "id": "0c4524ad",
   "metadata": {},
   "source": [
    "### Relationship: Profit vs. Discount"
   ]
  },
  {
   "cell_type": "code",
   "execution_count": null,
   "id": "4d17407e",
   "metadata": {},
   "outputs": [],
   "source": [
    "plt.figure(figsize=(8,5))\n",
    "sns.scatterplot(x='Discount', y='Profit', data=df)\n",
    "plt.title(\"Profit vs Discount\")\n",
    "plt.xlabel(\"Discount\")\n",
    "plt.ylabel(\"Profit\")\n",
    "plt.show()"
   ]
  },
  {
   "cell_type": "markdown",
   "id": "98e4f6b6",
   "metadata": {},
   "source": [
    "### Sales by Region and Category"
   ]
  },
  {
   "cell_type": "code",
   "execution_count": null,
   "id": "fe0f4209",
   "metadata": {},
   "outputs": [],
   "source": [
    "# Sales by Region\n",
    "region_sales = df.groupby('Region')['Sales'].sum().reset_index()\n",
    "plt.figure(figsize=(8,5))\n",
    "sns.barplot(x='Region', y='Sales', data=region_sales)\n",
    "plt.title(\"Total Sales by Region\")\n",
    "plt.xticks(rotation=45)\n",
    "plt.show()\n",
    "\n",
    "# Sales by Category\n",
    "category_sales = df.groupby('Category')['Sales'].sum().reset_index()\n",
    "plt.figure(figsize=(8,5))\n",
    "sns.barplot(x='Category', y='Sales', data=category_sales)\n",
    "plt.title(\"Total Sales by Category\")\n",
    "plt.show()"
   ]
  },
  {
   "cell_type": "markdown",
   "id": "bdf57b63",
   "metadata": {},
   "source": [
    "## Step 4: Predictive Modeling - Linear Regression"
   ]
  },
  {
   "cell_type": "code",
   "execution_count": null,
   "id": "f4960fbb",
   "metadata": {},
   "outputs": [],
   "source": [
    "# Feature selection and model training\n",
    "X = df[['Profit', 'Discount']]\n",
    "y = df['Sales']\n",
    "\n",
    "X_train, X_test, y_train, y_test = train_test_split(X, y, test_size=0.2, random_state=42)\n",
    "model = LinearRegression()\n",
    "model.fit(X_train, y_train)\n",
    "\n",
    "# Predictions\n",
    "y_pred = model.predict(X_test)"
   ]
  },
  {
   "cell_type": "markdown",
   "id": "6667244b",
   "metadata": {},
   "source": [
    "### Model Evaluation"
   ]
  },
  {
   "cell_type": "code",
   "execution_count": null,
   "id": "90d36665",
   "metadata": {},
   "outputs": [],
   "source": [
    "r2 = r2_score(y_test, y_pred)\n",
    "mse = mean_squared_error(y_test, y_pred)\n",
    "print(f\"R² Score: {r2:.2f}\")\n",
    "print(f\"Mean Squared Error: {mse:.2f}\")"
   ]
  },
  {
   "cell_type": "markdown",
   "id": "75b451ed",
   "metadata": {},
   "source": [
    "## Step 5: Export Cleaned Dataset"
   ]
  },
  {
   "cell_type": "code",
   "execution_count": null,
   "id": "cfca37b1",
   "metadata": {},
   "outputs": [],
   "source": [
    "df.to_csv('Cleaned_Sales_Data.csv', index=False)\n",
    "print(\"Cleaned dataset saved as 'Cleaned_Sales_Data.csv'\")"
   ]
  }
 ],
 "metadata": {},
 "nbformat": 4,
 "nbformat_minor": 5
}